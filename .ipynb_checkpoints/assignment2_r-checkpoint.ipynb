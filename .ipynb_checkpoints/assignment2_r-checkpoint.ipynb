{
 "cells": [
  {
   "cell_type": "markdown",
   "id": "e3cc2d88-fa71-4c18-8ea4-67bf41f2f7f8",
   "metadata": {},
   "source": [
    "This notebook demonstrates a simple linear regression analysis using R to model Salary based on Years of Experience "
   ]
  },
  {
   "cell_type": "code",
   "execution_count": null,
   "id": "7d866dcc-809f-4273-9cc9-9c9d1e55f4d0",
   "metadata": {},
   "outputs": [],
   "source": [
    "#read csv file thank u "
   ]
  },
  {
   "cell_type": "code",
   "execution_count": 1,
   "id": "e129fb58-8cbb-4354-80d6-4fc878053947",
   "metadata": {},
   "outputs": [],
   "source": [
    "dataset <- read.csv(\"regression_data.csv\")"
   ]
  },
  {
   "cell_type": "code",
   "execution_count": null,
   "id": "7b1ee065-4101-4860-a1cb-fc3d0bdd594f",
   "metadata": {},
   "outputs": [],
   "source": [
    "#create scatterplot from the dataset "
   ]
  },
  {
   "cell_type": "code",
   "execution_count": 2,
   "id": "b88732e0-765c-4082-9180-274b347e69f5",
   "metadata": {},
   "outputs": [
    {
     "data": {
      "image/png": "[encoded data removed]",
      "text/plain": [
       "plot without title"
      ]
     },
     "metadata": {
      "image/png": {
       "height": 420,
       "width": 420
      }
     },
     "output_type": "display_data"
    }
   ],
   "source": [
    "plot(dataset$YearsExperience, dataset$Salary, col=\"red\")"
   ]
  },
  {
   "cell_type": "code",
   "execution_count": null,
   "id": "34a59fbc-db7c-4e2a-9ac8-6ce515683481",
   "metadata": {},
   "outputs": [],
   "source": [
    "#assigning a variable to the lm so that it is easier to call up "
   ]
  },
  {
   "cell_type": "code",
   "execution_count": 3,
   "id": "dd10f3df-36d2-42de-90ac-90a5d20f772c",
   "metadata": {},
   "outputs": [],
   "source": [
    "model <- lm(Salary ~ YearsExperience, data=dataset)"
   ]
  },
  {
   "cell_type": "code",
   "execution_count": 4,
   "id": "65c26576-2026-40ee-b011-56e755ec0a0a",
   "metadata": {},
   "outputs": [
    {
     "ename": "ERROR",
     "evalue": "Error in library(ggplot2): there is no package called ‘ggplot2’\n",
     "output_type": "error",
     "traceback": [
      "Error in library(ggplot2): there is no package called ‘ggplot2’\nTraceback:\n",
      "1. stop(packageNotFoundError(package, lib.loc, sys.call()))"
     ]
    }
   ],
   "source": [
    "library(ggplot2)\n",
    "ggplot() +\n",
    "  geom_point(aes(x = dataset$YearsExperience, y = dataset$Salary), colour = 'red') +\n",
    "  geom_line(aes(x = dataset$YearsExperience, y = predict(model, newdata = dataset)), colour = 'blue') +\n",
    "  ggtitle('Salary vs Experience') +\n",
    "  xlab('Years of experience') +\n",
    "  ylab('Salary')"
   ]
  },
  {
   "cell_type": "code",
   "execution_count": 5,
   "id": "92d9d348-1650-4092-a361-fff756d6b37e",
   "metadata": {},
   "outputs": [],
   "source": [
    "#whoopsies need to add ggplot2 lol "
   ]
  },
  {
   "cell_type": "code",
   "execution_count": 6,
   "id": "f2933f59-dd6c-455f-939e-85d0165a7d44",
   "metadata": {},
   "outputs": [
    {
     "ename": "ERROR",
     "evalue": "Error in library(ggplot2): there is no package called ‘ggplot2’\n",
     "output_type": "error",
     "traceback": [
      "Error in library(ggplot2): there is no package called ‘ggplot2’\nTraceback:\n",
      "1. stop(packageNotFoundError(package, lib.loc, sys.call()))"
     ]
    }
   ],
   "source": [
    "library(ggplot2)"
   ]
  },
  {
   "cell_type": "code",
   "execution_count": 7,
   "id": "a0b8b7c7-cc5f-4d9f-b1a7-296f3d7541f9",
   "metadata": {},
   "outputs": [],
   "source": [
    "#losing my mind haha"
   ]
  },
  {
   "cell_type": "code",
   "execution_count": 8,
   "id": "8af81eb3-d821-4484-99a4-48d825284c82",
   "metadata": {},
   "outputs": [
    {
     "name": "stderr",
     "output_type": "stream",
     "text": [
      "also installing the dependencies ‘lattice’, ‘nlme’, ‘Matrix’, ‘farver’, ‘labeling’, ‘R6’, ‘RColorBrewer’, ‘viridisLite’, ‘magrittr’, ‘pkgconfig’, ‘gtable’, ‘isoband’, ‘MASS’, ‘mgcv’, ‘scales’, ‘tibble’, ‘withr’\n",
      "\n",
      "\n",
      "Updating HTML index of packages in '.Library'\n",
      "\n",
      "Making 'packages.html' ...\n",
      " done\n",
      "\n"
     ]
    }
   ],
   "source": [
    "install.packages(\"ggplot2\")"
   ]
  },
  {
   "cell_type": "code",
   "execution_count": 9,
   "id": "5ff48112-bf1d-4ec3-a97d-4355701c2111",
   "metadata": {},
   "outputs": [],
   "source": [
    "#please work"
   ]
  },
  {
   "cell_type": "code",
   "execution_count": 12,
   "id": "41262490-45d1-4e14-bdeb-f6fd6e608224",
   "metadata": {},
   "outputs": [],
   "source": [
    "library(ggplot2)"
   ]
  },
  {
   "cell_type": "code",
   "execution_count": null,
   "id": "4682fa79-07c7-40a7-8c97-b7e042283f60",
   "metadata": {},
   "outputs": [],
   "source": [
    "#enables advanced plotting but its not working "
   ]
  },
  {
   "cell_type": "code",
   "execution_count": 14,
   "id": "b8411b9e-a47c-4b8c-bb03-aaa2b5312f76",
   "metadata": {},
   "outputs": [
    {
     "ename": "ERROR",
     "evalue": "Error: object 'regression_data.csv' not found\n",
     "output_type": "error",
     "traceback": [
      "Error: object 'regression_data.csv' not found\nTraceback:\n",
      "1. .handleSimpleError(function (cnd) \n . {\n .     watcher$capture_plot_and_output()\n .     cnd <- sanitize_call(cnd)\n .     watcher$push(cnd)\n .     switch(on_error, continue = invokeRestart(\"eval_continue\"), \n .         stop = invokeRestart(\"eval_stop\"), error = NULL)\n . }, \"object 'regression_data.csv' not found\", base::quote(eval(expr, \n .     envir)))"
     ]
    }
   ],
   "source": [
    "ggplot(regression_data.csv) +\n",
    "  geom_point(aes(x = dataset$YearsExperience, y = dataset$Salary), colour = 'red') +\n",
    "  geom_line(aes(x = dataset$YearsExperience, y = predict(model, newdata = dataset)), colour = 'blue') +\n",
    "  ggtitle('Salary vs Experience') +\n",
    "  xlab('Years of experience') +\n",
    "  ylab('Salary')"
   ]
  },
  {
   "cell_type": "code",
   "execution_count": null,
   "id": "fd8ec2a3-ff94-469d-91a2-65026c1d54e6",
   "metadata": {},
   "outputs": [],
   "source": [
    "#why no working?? :("
   ]
  },
  {
   "cell_type": "code",
   "execution_count": null,
   "id": "8dc283f6-deb2-4cad-aedd-3803b64a9cc9",
   "metadata": {},
   "outputs": [],
   "source": [
    "#oh because I renamed the dataset file to be just dataset"
   ]
  },
  {
   "cell_type": "code",
   "execution_count": 2,
   "id": "8b1d1cdc-32b5-4661-bf0b-3c4d52ccc4af",
   "metadata": {},
   "outputs": [
    {
     "ename": "ERROR",
     "evalue": "Error in ggplot2(dataset): could not find function \"ggplot2\"\n",
     "output_type": "error",
     "traceback": [
      "Error in ggplot2(dataset): could not find function \"ggplot2\"\nTraceback:\n"
     ]
    }
   ],
   "source": [
    "ggplot2(dataset) +\n",
    "  geom_point(aes(x = dataset$YearsExperience, y = dataset$Salary), colour = 'red') +\n",
    "  geom_line(aes(x = dataset$YearsExperience, y = predict(model, newdata = dataset)), colour = 'blue') +\n",
    "  ggtitle('Salary vs Experience') +\n",
    "  xlab('Years of experience') +\n",
    "  ylab('Salary')\n"
   ]
  },
  {
   "cell_type": "code",
   "execution_count": 3,
   "id": "23513204-9fd0-497d-bdcb-279e2a110cda",
   "metadata": {},
   "outputs": [],
   "source": [
    "#okay thought i had already installed ggplot2"
   ]
  },
  {
   "cell_type": "code",
   "execution_count": 4,
   "id": "85cfbb41-ebd1-412b-9e4f-8f416a75baeb",
   "metadata": {},
   "outputs": [
    {
     "name": "stderr",
     "output_type": "stream",
     "text": [
      "also installing the dependencies ‘lattice’, ‘nlme’, ‘Matrix’, ‘farver’, ‘labeling’, ‘R6’, ‘RColorBrewer’, ‘viridisLite’, ‘magrittr’, ‘pkgconfig’, ‘gtable’, ‘isoband’, ‘MASS’, ‘mgcv’, ‘scales’, ‘tibble’, ‘withr’\n",
      "\n",
      "\n",
      "Updating HTML index of packages in '.Library'\n",
      "\n",
      "Making 'packages.html' ...\n",
      " done\n",
      "\n"
     ]
    }
   ],
   "source": [
    "install.packages(\"ggplot2\")\n"
   ]
  },
  {
   "cell_type": "code",
   "execution_count": 5,
   "id": "829975f8-7fbb-4d42-9ba7-b8f7588fb036",
   "metadata": {},
   "outputs": [],
   "source": [
    "#okay it appears as though that worked what a win for me "
   ]
  },
  {
   "cell_type": "code",
   "execution_count": 6,
   "id": "27a70156-0878-4060-b567-8362f5bdf1f3",
   "metadata": {},
   "outputs": [],
   "source": [
    "library(ggplot2)"
   ]
  },
  {
   "cell_type": "code",
   "execution_count": 7,
   "id": "05026af2-468f-4218-aa67-5643fccdc171",
   "metadata": {},
   "outputs": [],
   "source": [
    "#okay slay i think "
   ]
  },
  {
   "cell_type": "code",
   "execution_count": 8,
   "id": "9e1205b1-99e8-461a-ae16-e99f200c46d2",
   "metadata": {},
   "outputs": [
    {
     "ename": "ERROR",
     "evalue": "Error in eval(mf, parent.frame()): object 'dataset' not found\n",
     "output_type": "error",
     "traceback": [
      "Error in eval(mf, parent.frame()): object 'dataset' not found\nTraceback:\n",
      "1. eval(mf, parent.frame())",
      "2. eval(mf, parent.frame())",
      "3. stats::model.frame(formula = Salary ~ YearsExperience, data = dataset, \n .     drop.unused.levels = TRUE)",
      "4. model.frame.default(formula = Salary ~ YearsExperience, data = dataset, \n .     drop.unused.levels = TRUE)",
      "5. is.data.frame(data)",
      "6. .handleSimpleError(function (cnd) \n . {\n .     watcher$capture_plot_and_output()\n .     cnd <- sanitize_call(cnd)\n .     watcher$push(cnd)\n .     switch(on_error, continue = invokeRestart(\"eval_continue\"), \n .         stop = invokeRestart(\"eval_stop\"), error = NULL)\n . }, \"object 'dataset' not found\", base::quote(eval(mf, parent.frame())))"
     ]
    }
   ],
   "source": [
    "model <- lm(Salary ~ YearsExperience, data=dataset)\n"
   ]
  },
  {
   "cell_type": "code",
   "execution_count": null,
   "id": "6ec39177-19fe-408a-ad87-3576e84f4afd",
   "metadata": {},
   "outputs": [],
   "source": [
    "#this is so messy "
   ]
  },
  {
   "cell_type": "code",
   "execution_count": null,
   "id": "2340345b-1a2e-41a8-8691-32310ad13a99",
   "metadata": {},
   "outputs": [],
   "source": [
    "library(ggplot2)\n",
    "ggplot(dataset) +\n",
    "  geom_point(aes(x = dataset$YearsExperience, y = dataset$Salary), colour = 'red') +\n",
    "  geom_line(aes(x = dataset$YearsExperience, y = predict(model, newdata = dataset)), colour = 'blue') +\n",
    "  ggtitle('Salary vs Experience') +\n",
    "  xlab('Years of experience') +\n",
    "  ylab('Salary')"
   ]
  },
  {
   "cell_type": "code",
   "execution_count": null,
   "id": "a08cae53-9242-4017-817c-25a406353eaa",
   "metadata": {},
   "outputs": [],
   "source": [
    "#evaluate the model please"
   ]
  },
  {
   "cell_type": "code",
   "execution_count": 9,
   "id": "d046d233-1ec2-46cc-8fd2-dbf12f9eb47e",
   "metadata": {},
   "outputs": [
    {
     "ename": "ERROR",
     "evalue": "Error: object 'model' not found\n",
     "output_type": "error",
     "traceback": [
      "Error: object 'model' not found\nTraceback:\n",
      "1. .handleSimpleError(function (cnd) \n . {\n .     watcher$capture_plot_and_output()\n .     cnd <- sanitize_call(cnd)\n .     watcher$push(cnd)\n .     switch(on_error, continue = invokeRestart(\"eval_continue\"), \n .         stop = invokeRestart(\"eval_stop\"), error = NULL)\n . }, \"object 'model' not found\", base::quote(eval(expr, envir)))"
     ]
    }
   ],
   "source": [
    "summary(model)"
   ]
  },
  {
   "cell_type": "code",
   "execution_count": 10,
   "id": "34b2c7c9-4b52-4640-84df-f0a46f383b63",
   "metadata": {},
   "outputs": [],
   "source": [
    "#maybe i'll just start this all over again sob "
   ]
  },
  {
   "cell_type": "code",
   "execution_count": 11,
   "id": "e8ad0748-901e-483a-9949-7a77b9b37d01",
   "metadata": {},
   "outputs": [],
   "source": [
    "#dataset downloaded check check what's next"
   ]
  },
  {
   "cell_type": "code",
   "execution_count": 12,
   "id": "b79c402d-0fae-4c09-97a0-6c564091bb9f",
   "metadata": {},
   "outputs": [],
   "source": [
    "dataset <- read.csv(\"regression_data.csv\")"
   ]
  },
  {
   "cell_type": "code",
   "execution_count": 13,
   "id": "a2450d6c-10f4-49d2-95f8-d6de03ef9a8a",
   "metadata": {},
   "outputs": [],
   "source": [
    "#not sure if that worked but oh well moving on"
   ]
  },
  {
   "cell_type": "code",
   "execution_count": 14,
   "id": "00854505-3810-41c3-81ae-de0ef26108b7",
   "metadata": {},
   "outputs": [],
   "source": [
    "#creating scatterplot"
   ]
  },
  {
   "cell_type": "code",
   "execution_count": 15,
   "id": "b184faab-24a3-4551-9719-b60f6de8cbff",
   "metadata": {},
   "outputs": [
    {
     "data": {
      "image/png": "[encoded data removed]",
      "text/plain": [
       "plot without title"
      ]
     },
     "metadata": {
      "image/png": {
       "height": 420,
       "width": 420
      }
     },
     "output_type": "display_data"
    }
   ],
   "source": [
    "plot(dataset$YearsExperience, dataset$Salary, col=\"red\")"
   ]
  },
  {
   "cell_type": "code",
   "execution_count": null,
   "id": "abfeab2b-6407-4f89-8230-541b9ccec98b",
   "metadata": {},
   "outputs": [],
   "source": [
    "#fitting linear model"
   ]
  },
  {
   "cell_type": "code",
   "execution_count": 16,
   "id": "2b59666f-0aaf-4832-b15e-6b47565c1530",
   "metadata": {},
   "outputs": [],
   "source": [
    "model <- lm(Salary ~ YearsExperience, data=dataset)"
   ]
  },
  {
   "cell_type": "code",
   "execution_count": null,
   "id": "9ecc653d-9bc1-4080-b6d7-810d0a051dc2",
   "metadata": {},
   "outputs": [],
   "source": [
    "#overlaying regression model"
   ]
  },
  {
   "cell_type": "code",
   "execution_count": 17,
   "id": "8e5e19f1-cdfd-4196-953a-0bdf125d28ce",
   "metadata": {},
   "outputs": [
    {
     "data": {
      "image/png": "[encoded data removed]",
      "text/plain": [
       "plot without title"
      ]
     },
     "metadata": {
      "image/png": {
       "height": 420,
       "width": 420
      }
     },
     "output_type": "display_data"
    }
   ],
   "source": [
    "library(ggplot2)\n",
    "ggplot() +\n",
    "  geom_point(aes(x = dataset$YearsExperience, y = dataset$Salary), colour = 'red') +\n",
    "  geom_line(aes(x = dataset$YearsExperience, y = predict(model, newdata = dataset)), colour = 'blue') +\n",
    "  ggtitle('Salary vs Experience') +\n",
    "  xlab('Years of experience') +\n",
    "  ylab('Salary')"
   ]
  },
  {
   "cell_type": "code",
   "execution_count": 18,
   "id": "babf606e-225e-4c46-bf43-89f3d91d9faa",
   "metadata": {},
   "outputs": [],
   "source": [
    "#SLAY"
   ]
  },
  {
   "cell_type": "code",
   "execution_count": null,
   "id": "7abd9a9c-e0a3-4425-9475-e14fb7435093",
   "metadata": {},
   "outputs": [],
   "source": [
    "#evaluating the model"
   ]
  },
  {
   "cell_type": "code",
   "execution_count": 19,
   "id": "a72118d6-2f13-46c8-9bdc-226301f732ca",
   "metadata": {},
   "outputs": [
    {
     "data": {
      "text/plain": [
       "\n",
       "Call:\n",
       "lm(formula = Salary ~ YearsExperience, data = dataset)\n",
       "\n",
       "Residuals:\n",
       "    Min      1Q  Median      3Q     Max \n",
       "-7540.2 -2564.9  -199.1  2814.8  6230.6 \n",
       "\n",
       "Coefficients:\n",
       "                Estimate Std. Error t value Pr(>|t|)    \n",
       "(Intercept)        29204       4092   7.136 9.84e-05 ***\n",
       "YearsExperience     8285       1532   5.407 0.000641 ***\n",
       "---\n",
       "Signif. codes:  0 ‘***’ 0.001 ‘**’ 0.01 ‘*’ 0.05 ‘.’ 0.1 ‘ ’ 1\n",
       "\n",
       "Residual standard error: 4680 on 8 degrees of freedom\n",
       "Multiple R-squared:  0.7852,\tAdjusted R-squared:  0.7583 \n",
       "F-statistic: 29.24 on 1 and 8 DF,  p-value: 0.0006407\n"
      ]
     },
     "metadata": {},
     "output_type": "display_data"
    }
   ],
   "source": [
    "summary(model)"
   ]
  },
  {
   "cell_type": "code",
   "execution_count": 21,
   "id": "f9734d50-2740-400a-b60c-1be026ad606b",
   "metadata": {},
   "outputs": [],
   "source": [
    "#R complete dang that was a wild ride \n"
   ]
  },
  {
   "cell_type": "code",
   "execution_count": null,
   "id": "46db9e4e-a38c-4c9d-9aaf-3bae2027f87c",
   "metadata": {},
   "outputs": [],
   "source": []
  }
 ],
 "metadata": {
  "kernelspec": {
   "display_name": "R (7030_class_1)",
   "language": "R",
   "name": "ir_7030_class_1"
  },
  "language_info": {
   "codemirror_mode": "r",
   "file_extension": ".r",
   "mimetype": "text/x-r-source",
   "name": "R",
   "pygments_lexer": "r",
   "version": "4.4.3"
  }
 },
 "nbformat": 4,
 "nbformat_minor": 5
}
